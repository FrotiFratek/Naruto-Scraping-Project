{
 "cells": [
  {
   "cell_type": "code",
   "execution_count": 2,
   "id": "46c2daac",
   "metadata": {},
   "outputs": [
    {
     "name": "stdout",
     "output_type": "stream",
     "text": [
      "['3 October 2002', '10 October 2002', '17 October 2002', '24 October 2002', '31 October 2002', '7 November 2002', '14 November 2002', '21 November 2002', '28 November 2002', '5 December 2002', '12 December 2002', '19 December 2002', '26 December 2002', '9 January 2003', '16 January 2003', '23 January 2003', '30 January 2003', '6 February 2003', '13 February 2003', '20 February 2003', '27 February 2003', '6 March 2003', '13 March 2003', '20 March 2003', '27 March 2003', '2 April 2003', '2 April 2003', '9 April 2003', '16 April 2003', '23 April 2003', '30 April 2003', '7 May 2003', '14 May 2003', '21 May 2003', '28 May 2003', '4 June 2003', '11 June 2003', '18 June 2003', '2 July 2003', '9 July 2003', '16 July 2003', '23 July 2003', '30 July 2003', '6 August 2003', '13 August 2003', '20 August 2003', '27 August 2003', '3 September 2003', '10 September 2003', '17 September 2003', '24 September 2003', '1 October 2003', '8 October 2003', '15 October 2003', '22 October 2003', '29 October 2003', '5 November 2003', '12 November 2003', '19 November 2003', '26 November 2003', '3 December 2003', '10 December 2003', '17 December 2003', '24 December 2003', '31 December 2003', '14 January 2004', '14 January 2004', '28 January 2004', '4 February 2004', '11 February 2004', '18 February 2004', '25 February 2004', '3 March 2004', '10 March 2004', '17 March 2004', '24 March 2004', '31 March 2004', '7 April 2004', '14 April 2004', '21 April 2004', '28 April 2004', '5 May 2004', '12 May 2004', '19 May 2004', '26 May 2004', '2 June 2004', '9 June 2004', '16 June 2004', '23 June 2004', '7 July 2004', '14 July 2004', '21 July 2004', '28 July 2004', '4 August 2004', '11 August 2004', '11 August 2004', '18 August 2004', '25 August 2004', '1 September 2004', '8 September 2004', '15 September 2004', '22 September 2004', '29 September 2004', '13 October 2004', '20 October 2004', '27 October 2004', '3 November 2004', '10 November 2004', '17 November 2004', '24 November 2004', '24 November 2004', '1 December 2004', '8 December 2004', '15 December 2004', '22 December 2004', '5 January 2005', '5 January 2005', '12 January 2005', '19 January 2005', '2 February 2005', '9 February 2005', '16 February 2005', '23 February 2005', '2 March 2005', '9 March 2005', '16 March 2005', '30 March 2005', '30 March 2005', '6 April 2005', '13 April 2005', '20 April 2005', '27 April 2005', '4 May 2005', '11 May 2005', '18 May 2005', '25 May 2005', '1 June 2005', '8 June 2005', '15 June 2005', '22 June 2005', '29 June 2005', '6 July 2005', '13 July 2005', '20 July 2005', '27 July 2005', '10 August 2005', '17 August 2005', '17 August 2005', '24 August 2005', '31 August 2005', '14 September 2005', '21 September 2005', '28 September 2005', '5 October 2005', '12 October 2005', '19 October 2005', '26 October 2005', '2 November 2005', '9 November 2005', '16 November 2005', '23 November 2005', '30 November 2005', '7 December 2005', '14 December 2005', '21 December 2005', '4 January 2006', '4 January 2006', '18 January 2006', '25 January 2006', '1 February 2006', '8 February 2006', '15 February 2006', '22 February 2006', '1 March 2006', '8 March 2006', '15 March 2006', '22 March 2006', '29 March 2006', '5 April 2006', '12 April 2006', '19 April 2006', '26 April 2006', '3 May 2006', '10 May 2006', '17 May 2006', '24 May 2006', '31 May 2006', '7 June 2006', '14 June 2006', '21 June 2006', '28 June 2006', '5 July 2006', '12 July 2006', '19 July 2006', '26 July 2006', '9 August 2006', '16 August 2006', '23 August 2006', '30 August 2006', '13 September 2006', '20 September 2006', '27 September 2006', '5 October 2006', '5 October 2006', '5 October 2006', '19 October 2006', '26 October 2006', '2 November 2006', '9 November 2006', '16 November 2006', '30 November 2006', '7 December 2006', '14 December 2006', '21 December 2006', '21 December 2006', '11 January 2007', '18 January 2007', '25 January 2007', '1 February 2007', '8 February 2007']\n"
     ]
    }
   ],
   "source": [
    "from bs4 import BeautifulSoup\n",
    "import requests as r\n",
    "import pandas as pd\n",
    "import time\n",
    "\n",
    "url = 'https://naruto.fandom.com/wiki/List_of_Animated_Media'\n",
    "result = r.get(url)\n",
    "content = result.text\n",
    "soup = BeautifulSoup(content, 'lxml')\n",
    "\n",
    "#getting hrefs for all episodes of Naruto to be able to scrap data from all pages\n",
    "eps_table = soup.find('table', {'class': \"box table coloured bordered innerbordered style-basic fill-horiz\"})\n",
    "ep_links = []\n",
    "ep_names = []\n",
    "jap_airdate = []\n",
    "eng_airdate = []\n",
    "for row in eps_table.select(\"tr\")[1:]:\n",
    "    ep_links.append(row.find('a', href=True)['href'])\n",
    "    ep_names.append(row.select('td')[0].get_text()[:-1]) #we are taking [:-1] to get rid of \\n\n",
    "    jap_airdate.append(row.select('td')[1].get_text()[:-1])\n",
    "    eng_airdate.append(row.select('td')[2].get_text()[:-1])\n",
    "#scraping lists of chars that appeared in each episode, arcs, openings and endings\n",
    "char_appear_list = []\n",
    "arcs = []\n",
    "openings = []\n",
    "endings = []\n",
    "for i in range(0, len(ep_links)):\n",
    "    url = 'https://naruto.fandom.com' + ep_links[i]\n",
    "    result = r.get(url)\n",
    "    content = result.text\n",
    "    soup = BeautifulSoup(content, 'lxml')\n",
    "    char_table = soup.find('table', {'class': \"wikitable fill-horiz cell-align-center\"})\n",
    "    char_list=[]\n",
    "    for row in char_table.select(\"tr\")[2:]:\n",
    "        char_list.append(row.find(\"b\").get_text())\n",
    "    char_appear_list.append(char_list)\n",
    "    for j in range (0, len(soup.find_all('h3', {'class': \"pi-data-label pi-secondary-font\"}))):\n",
    "        if soup.find_all('h3', {'class': \"pi-data-label pi-secondary-font\"})[j].get_text() == 'Arc':\n",
    "            arcs.append(soup.find_all('div', {'class': \"pi-data-value pi-font\"})[j].get_text())\n",
    "        if soup.find_all('h3', {'class': \"pi-data-label pi-secondary-font\"})[j].get_text() == 'Opening':\n",
    "            openings.append(soup.find_all('div', {'class': \"pi-data-value pi-font\"})[j].get_text())\n",
    "        if soup.find_all('h3', {'class': \"pi-data-label pi-secondary-font\"})[j].get_text() == 'Ending':\n",
    "            endings.append(soup.find_all('div', {'class': \"pi-data-value pi-font\"})[j].get_text())\n",
    "    #we need every list to have the same length, so if there is no arc/ending/opening info we put 'None' in the list\n",
    "    if len(arcs) < i+1:\n",
    "        arcs.append('None')\n",
    "    if len(openings) < i+1:\n",
    "        openings.append('None')\n",
    "    if len(endings) < i+1:\n",
    "        endings.append('None')\n",
    "    time.sleep(0.100)\n",
    "\n",
    "#getting ratings for each episode from MAL website\n",
    "ratings = []\n",
    "for offset in ['', '?offset=100', '?offset=200']:\n",
    "    url = 'https://myanimelist.net/anime/20/Naruto/episode' + offset\n",
    "    result = r.get(url)\n",
    "    content = result.text\n",
    "    soup = BeautifulSoup(content, 'lxml')\n",
    "\n",
    "    ep_table = soup.find('table', {'class': \"mt8 episode_list js-watch-episode-list\"})\n",
    "    for row in ep_table.select(\"tr\")[1:len(ep_table.select(\"tr\"))]:\n",
    "        ratings.append(float(row.select('td')[4].get_text()[-3:]))\n",
    "\n",
    "data = {'Episode Name': ep_names,\n",
    "        'Japanese Airdate': jap_airdate, \n",
    "        'English Airdate': eng_airdate, \n",
    "        'Char List': char_appear_list, \n",
    "        'Opening': openings, \n",
    "        'Ending': endings,\n",
    "        'Arc': arcs,\n",
    "        'Rating': ratings}\n",
    "\n",
    "df = pd.DataFrame(data)\n",
    "df.to_csv('naruto_website_scraper.csv')"
   ]
  },
  {
   "cell_type": "code",
   "execution_count": null,
   "id": "a055eecd",
   "metadata": {},
   "outputs": [],
   "source": []
  }
 ],
 "metadata": {
  "kernelspec": {
   "display_name": "Python 3 (ipykernel)",
   "language": "python",
   "name": "python3"
  },
  "language_info": {
   "codemirror_mode": {
    "name": "ipython",
    "version": 3
   },
   "file_extension": ".py",
   "mimetype": "text/x-python",
   "name": "python",
   "nbconvert_exporter": "python",
   "pygments_lexer": "ipython3",
   "version": "3.10.9"
  }
 },
 "nbformat": 4,
 "nbformat_minor": 5
}
